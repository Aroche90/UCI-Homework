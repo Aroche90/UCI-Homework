{
 "cells": [
  {
   "cell_type": "code",
   "execution_count": 1,
   "metadata": {},
   "outputs": [],
   "source": [
    "#import dependencies\n",
    "import os\n",
    "import csv"
   ]
  },
  {
   "cell_type": "code",
   "execution_count": 2,
   "metadata": {},
   "outputs": [],
   "source": [
    "#set path\n",
    "PyPoll = os.path.join(\"election_data.csv\")"
   ]
  },
  {
   "cell_type": "code",
   "execution_count": 3,
   "metadata": {},
   "outputs": [],
   "source": [
    "#create empty lists for later\n",
    "candidates = []\n",
    "vote_count = []"
   ]
  },
  {
   "cell_type": "code",
   "execution_count": 4,
   "metadata": {},
   "outputs": [
    {
     "name": "stdout",
     "output_type": "stream",
     "text": [
      " Election Results \n",
      "------------------------\n",
      "Total Votes: 3521001\n",
      "------------------------\n",
      "Khan: 63.0% (2218231)\n",
      "Correy: 20.0% (704200)\n",
      "Li: 14.0% (492940)\n",
      "O'Tooley: 3.0% (105630)\n",
      "------------------------\n",
      "Winner: Khan\n"
     ]
    }
   ],
   "source": [
    "with open(PyPoll, newline=\"\") as csvfile:\n",
    "    csvreader = csv.reader(csvfile, delimiter=\",\")\n",
    "    csv_header = next(csvreader)\n",
    "    for row in csvreader:\n",
    "        #fill empty list with columns from data and obtain how many votes each got\n",
    "        if row[2] not in candidates:\n",
    "            candidates.append(row[2])\n",
    "            vote_count.append(1)\n",
    "        else:\n",
    "            whatindex = candidates.index(row[2])\n",
    "            vote_count[whatindex] += 1\n",
    "    #Find total votes\n",
    "    total_votes = sum(vote_count)\n",
    "    #find percentage for each candidate\n",
    "    votepercentage = [round(vote_count[i]/total_votes*100,4) for i in range(0,len(vote_count))]\n",
    "    #print using lists and variables gathered above\n",
    "    print(\" Election Results \")\n",
    "    print(\"------------------------\")\n",
    "    print(f\"Total Votes: {total_votes}\")\n",
    "    print(\"------------------------\")\n",
    "    \n",
    "    for i in range(0,len(candidates)):\n",
    "        print(f\"{candidates[i]}: {votepercentage[i]}% ({vote_count[i]})\")\n",
    "\n",
    "    print(\"------------------------\")\n",
    "    print(f\"Winner: {candidates[vote_count.index(max(vote_count))]}\")\n",
    "    #create text file\n",
    "    with open(\"pollOutput.txt\", \"w\") as text_file:\n",
    "        print(\" Election Results \", file=text_file)\n",
    "        print(\"------------------------\", file=text_file)\n",
    "        print(f\"Total Votes: {total_votes}\", file=text_file)\n",
    "        print(\"------------------------\", file=text_file)\n",
    "        for i in range(0,len(candidates)):\n",
    "            print(f\"{candidates[i]}: {votepercentage[i]}% ({vote_count[i]})\", file=text_file)\n",
    "        print(\"------------------------\", file=text_file)\n",
    "        print(f\"Winner: {candidates[vote_count.index(max(vote_count))]}\", file=text_file)\n",
    "\n"
   ]
  },
  {
   "cell_type": "code",
   "execution_count": null,
   "metadata": {},
   "outputs": [],
   "source": []
  },
  {
   "cell_type": "code",
   "execution_count": null,
   "metadata": {},
   "outputs": [],
   "source": []
  }
 ],
 "metadata": {
  "kernelspec": {
   "display_name": "Python [conda env:PythonData] *",
   "language": "python",
   "name": "conda-env-PythonData-py"
  },
  "language_info": {
   "codemirror_mode": {
    "name": "ipython",
    "version": 3
   },
   "file_extension": ".py",
   "mimetype": "text/x-python",
   "name": "python",
   "nbconvert_exporter": "python",
   "pygments_lexer": "ipython3",
   "version": "3.6.9"
  }
 },
 "nbformat": 4,
 "nbformat_minor": 2
}
